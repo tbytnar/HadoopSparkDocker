{
 "metadata": {
  "language_info": {
   "codemirror_mode": {
    "name": "ipython",
    "version": 3
   },
   "file_extension": ".py",
   "mimetype": "text/x-python",
   "name": "python",
   "nbconvert_exporter": "python",
   "pygments_lexer": "ipython3",
   "version": "3.7.8-final"
  },
  "orig_nbformat": 2,
  "kernelspec": {
   "name": "python3",
   "display_name": "Python 3.7.8 64-bit",
   "metadata": {
    "interpreter": {
     "hash": "9c312fe59b043f03cdf3f2a5591fbf2acdbea9d411db90b339d57e59d8b4ec90"
    }
   }
  }
 },
 "nbformat": 4,
 "nbformat_minor": 2,
 "cells": [
  {
   "cell_type": "code",
   "execution_count": 74,
   "metadata": {},
   "outputs": [
    {
     "output_type": "stream",
     "name": "stdout",
     "text": [
      "Collecting pandas\n",
      "  Using cached pandas-1.2.0-cp37-cp37m-win_amd64.whl (9.1 MB)\n",
      "Collecting numpy>=1.16.5\n",
      "  Using cached numpy-1.19.4-cp37-cp37m-win_amd64.whl (12.9 MB)\n",
      "Collecting python-dateutil>=2.7.3\n",
      "  Using cached python_dateutil-2.8.1-py2.py3-none-any.whl (227 kB)\n",
      "Collecting pytz>=2017.3\n",
      "  Using cached pytz-2020.5-py2.py3-none-any.whl (510 kB)\n",
      "Collecting six>=1.5\n",
      "  Using cached six-1.15.0-py2.py3-none-any.whl (10 kB)\n",
      "Installing collected packages: six, pytz, python-dateutil, numpy, pandas\n",
      "Successfully installed numpy-1.19.4 pandas-1.2.0 python-dateutil-2.8.1 pytz-2020.5 six-1.15.0\n",
      "Collecting pyhive\n",
      "  Using cached PyHive-0.6.3.tar.gz (41 kB)\n",
      "Requirement already satisfied: python-dateutil in c:\\users\\tbytn\\appdata\\local\\programs\\python\\python37\\lib\\site-packages (from pyhive) (2.8.1)\n",
      "Collecting future\n",
      "  Using cached future-0.18.2.tar.gz (829 kB)\n",
      "Requirement already satisfied: six>=1.5 in c:\\users\\tbytn\\appdata\\local\\programs\\python\\python37\\lib\\site-packages (from python-dateutil->pyhive) (1.15.0)\n",
      "Using legacy 'setup.py install' for pyhive, since package 'wheel' is not installed.\n",
      "Using legacy 'setup.py install' for future, since package 'wheel' is not installed.\n",
      "Installing collected packages: future, pyhive\n",
      "    Running setup.py install for future: started\n",
      "    Running setup.py install for future: finished with status 'done'\n",
      "    Running setup.py install for pyhive: started\n",
      "    Running setup.py install for pyhive: finished with status 'done'\n",
      "Successfully installed future-0.18.2 pyhive-0.6.3\n",
      "Collecting pure-sasl\n",
      "  Using cached pure-sasl-0.6.2.tar.gz (11 kB)\n",
      "Using legacy 'setup.py install' for pure-sasl, since package 'wheel' is not installed.\n",
      "Installing collected packages: pure-sasl\n",
      "    Running setup.py install for pure-sasl: started\n",
      "    Running setup.py install for pure-sasl: finished with status 'done'\n",
      "Successfully installed pure-sasl-0.6.2\n",
      "Collecting thrift\n",
      "  Using cached thrift-0.13.0.tar.gz (59 kB)\n",
      "Requirement already satisfied: six>=1.7.2 in c:\\users\\tbytn\\appdata\\local\\programs\\python\\python37\\lib\\site-packages (from thrift) (1.15.0)\n",
      "Using legacy 'setup.py install' for thrift, since package 'wheel' is not installed.\n",
      "Installing collected packages: thrift\n",
      "    Running setup.py install for thrift: started\n",
      "    Running setup.py install for thrift: finished with status 'done'\n",
      "Successfully installed thrift-0.13.0\n",
      "Collecting thrift_sasl\n",
      "  Using cached thrift_sasl-0.4.2.tar.gz (3.9 kB)\n",
      "Requirement already satisfied: thrift>=0.10.0 in c:\\users\\tbytn\\appdata\\local\\programs\\python\\python37\\lib\\site-packages (from thrift_sasl) (0.13.0)\n",
      "Requirement already satisfied: pure-sasl>=0.3.0 in c:\\users\\tbytn\\appdata\\local\\programs\\python\\python37\\lib\\site-packages (from thrift_sasl) (0.6.2)\n",
      "Requirement already satisfied: six>=1.13.0 in c:\\users\\tbytn\\appdata\\local\\programs\\python\\python37\\lib\\site-packages (from thrift_sasl) (1.15.0)\n",
      "Using legacy 'setup.py install' for thrift-sasl, since package 'wheel' is not installed.\n",
      "Installing collected packages: thrift-sasl\n",
      "    Running setup.py install for thrift-sasl: started\n",
      "    Running setup.py install for thrift-sasl: finished with status 'done'\n",
      "Successfully installed thrift-sasl-0.4.2\n",
      "Collecting pure-transport\n",
      "  Using cached pure_transport-0.2.0-py3-none-any.whl (15 kB)\n",
      "Requirement already satisfied: thrift in c:\\users\\tbytn\\appdata\\local\\programs\\python\\python37\\lib\\site-packages (from pure-transport) (0.13.0)\n",
      "Requirement already satisfied: pure-sasl>=0.3.0 in c:\\users\\tbytn\\appdata\\local\\programs\\python\\python37\\lib\\site-packages (from pure-transport) (0.6.2)\n",
      "Requirement already satisfied: thrift-sasl in c:\\users\\tbytn\\appdata\\local\\programs\\python\\python37\\lib\\site-packages (from pure-transport) (0.4.2)\n",
      "Requirement already satisfied: six>=1.7.2 in c:\\users\\tbytn\\appdata\\local\\programs\\python\\python37\\lib\\site-packages (from thrift->pure-transport) (1.15.0)\n",
      "Installing collected packages: pure-transport\n",
      "Successfully installed pure-transport-0.2.0\n"
     ]
    }
   ],
   "source": [
    "!pip install pandas\n",
    "!pip install pyhive\n",
    "!pip install pure-sasl\n",
    "!pip install thrift\n",
    "!pip install thrift_sasl\n",
    "!pip install pure-transport"
   ]
  },
  {
   "cell_type": "code",
   "execution_count": 75,
   "metadata": {},
   "outputs": [],
   "source": [
    "import puretransport\n",
    "from pyhive import hive"
   ]
  },
  {
   "cell_type": "code",
   "execution_count": 77,
   "metadata": {},
   "outputs": [
    {
     "output_type": "error",
     "ename": "SyntaxError",
     "evalue": "invalid syntax (<ipython-input-77-229656daba8f>, line 6)",
     "traceback": [
      "\u001b[1;36m  File \u001b[1;32m\"<ipython-input-77-229656daba8f>\"\u001b[1;36m, line \u001b[1;32m6\u001b[0m\n\u001b[1;33m    hive_con = hive.connect(username='username', thrift_transport=transport,\u001b[0m\n\u001b[1;37m           ^\u001b[0m\n\u001b[1;31mSyntaxError\u001b[0m\u001b[1;31m:\u001b[0m invalid syntax\n"
     ]
    }
   ],
   "source": [
    "transport = puretransport.transport_factory(host='localhost',\r\n",
    "                                            port=10000,\r\n",
    "                                            username='hiveuser',\r\n",
    "                                            password='mypassword')\r\n",
    "\r\n",
    "hive_con = hive.connect(username='username', thrift_transport=transport,\r\n",
    "                        database='examples')\r\n",
    "cursor = hive_con.cursor()\r\n",
    "\r\n",
    "cursor.execute(\"select * from table limit 1\")\r\n",
    "\r\n",
    "cursor.fetchall()"
   ]
  },
  {
   "cell_type": "code",
   "execution_count": 63,
   "metadata": {},
   "outputs": [
    {
     "output_type": "execute_result",
     "data": {
      "text/plain": [
       "'DESKTOP-E8QR404'"
      ]
     },
     "metadata": {},
     "execution_count": 63
    }
   ],
   "source": [
    "import socket\n",
    "socket.gethostname()"
   ]
  },
  {
   "cell_type": "code",
   "execution_count": 67,
   "metadata": {},
   "outputs": [
    {
     "output_type": "execute_result",
     "data": {
      "text/plain": [
       "(False, b'', b'')"
      ]
     },
     "metadata": {},
     "execution_count": 67
    }
   ],
   "source": [
    "import sasl\n",
    "client = sasl.Client()\n",
    "client.setAttr('host','localhost')\n",
    "client.setAttr('username','hiveuser')\n",
    "client.setAttr('password','mypassword')\n",
    "client.init()\n",
    "client.start('PLAIN')"
   ]
  }
 ]
}